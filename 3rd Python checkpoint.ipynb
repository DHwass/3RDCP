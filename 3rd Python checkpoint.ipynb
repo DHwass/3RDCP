{
 "cells": [
  {
   "cell_type": "code",
   "execution_count": 3,
   "id": "33670f39",
   "metadata": {},
   "outputs": [
    {
     "name": "stdout",
     "output_type": "stream",
     "text": [
      "Entrez le premier numero4\n",
      "Entrez le deuxieme numero3\n",
      "Entrez le troisieme numero7\n"
     ]
    },
    {
     "data": {
      "text/plain": [
       "'7'"
      ]
     },
     "execution_count": 3,
     "metadata": {},
     "output_type": "execute_result"
    }
   ],
   "source": [
    "def max(a,b,c):\n",
    "    if a>b and a>c:\n",
    "        return a\n",
    "    elif b>a and b>c:\n",
    "        return b\n",
    "    else:\n",
    "        return c\n",
    "A=input(\"Entrez le premier numero\")\n",
    "B=input(\"Entrez le deuxieme numero\")\n",
    "C=input(\"Entrez le troisieme numero\")\n",
    "max(A,B,C)"
   ]
  },
  {
   "cell_type": "code",
   "execution_count": 6,
   "id": "94a0238a",
   "metadata": {},
   "outputs": [
    {
     "name": "stdout",
     "output_type": "stream",
     "text": [
      "Entrez le premier nombre10\n",
      "Entrez le deuxieme nombre5\n"
     ]
    },
    {
     "data": {
      "text/plain": [
       "'15,5'"
      ]
     },
     "execution_count": 6,
     "metadata": {},
     "output_type": "execute_result"
    }
   ],
   "source": [
    "def add_subb(a,b):\n",
    "    x=int(a)\n",
    "    y=int(b)\n",
    "    add=x+y\n",
    "    sub=x-y\n",
    "    return str(add)+\",\"+str(sub)\n",
    "A=input(\"Entrez le premier nombre\")\n",
    "B=input(\"Entrez le deuxieme nombre\")\n",
    "add_subb(A,B)"
   ]
  },
  {
   "cell_type": "code",
   "execution_count": 71,
   "id": "3e2d3a53",
   "metadata": {},
   "outputs": [
    {
     "name": "stdout",
     "output_type": "stream",
     "text": [
      "[2, 4, 6, 10]\n",
      "[1, 3, 5, 7]\n"
     ]
    }
   ],
   "source": [
    " list_integers=[1,2,3,4,5,6,7,10]\n",
    "\n",
    "def somme(l):\n",
    "    somme1=0\n",
    "    for i in l:\n",
    "        somme1=somme1+i\n",
    "    return somme1\n",
    "\n",
    "def multiply(d):\n",
    "    somme2=1\n",
    "    for j in d:\n",
    "        somme2=somme2*j\n",
    "    return somme2\n",
    "list_integers_tosum=[]\n",
    "list_integers_tomult=[]\n",
    "\n",
    "for i in range(len(list_integers)):\n",
    "    if i%2==0:\n",
    "        list_integers_tosum.append(list_integers[i])\n",
    "    else:\n",
    "        list_integers_tomult.append(list_integers[i])\n",
    "print(list_integers_tomult)\n",
    "print(list_integers_tosum)\n",
    "\n"
   ]
  },
  {
   "cell_type": "code",
   "execution_count": 84,
   "id": "ebe2db97",
   "metadata": {},
   "outputs": [
    {
     "data": {
      "text/plain": [
       "['apple', 'cheese', 'juice', 'strawberry', 'watermelon']"
      ]
     },
     "execution_count": 84,
     "metadata": {},
     "output_type": "execute_result"
    }
   ],
   "source": [
    "list=[\"apple\",\"juice\",\"cheese\",\"strawberry\",\"watermelon\"]\n",
    "def sorting(l):\n",
    "    l.sort()\n",
    "    return l\n",
    "sorting(list)\n",
    "    "
   ]
  },
  {
   "cell_type": "code",
   "execution_count": 87,
   "id": "0f7fcb25",
   "metadata": {},
   "outputs": [
    {
     "name": "stdout",
     "output_type": "stream",
     "text": [
      "None\n"
     ]
    }
   ],
   "source": []
  }
 ],
 "metadata": {
  "kernelspec": {
   "display_name": "Python 3 (ipykernel)",
   "language": "python",
   "name": "python3"
  },
  "language_info": {
   "codemirror_mode": {
    "name": "ipython",
    "version": 3
   },
   "file_extension": ".py",
   "mimetype": "text/x-python",
   "name": "python",
   "nbconvert_exporter": "python",
   "pygments_lexer": "ipython3",
   "version": "3.9.12"
  },
  "varInspector": {
   "cols": {
    "lenName": 16,
    "lenType": 16,
    "lenVar": 40
   },
   "kernels_config": {
    "python": {
     "delete_cmd_postfix": "",
     "delete_cmd_prefix": "del ",
     "library": "var_list.py",
     "varRefreshCmd": "print(var_dic_list())"
    },
    "r": {
     "delete_cmd_postfix": ") ",
     "delete_cmd_prefix": "rm(",
     "library": "var_list.r",
     "varRefreshCmd": "cat(var_dic_list()) "
    }
   },
   "types_to_exclude": [
    "module",
    "function",
    "builtin_function_or_method",
    "instance",
    "_Feature"
   ],
   "window_display": false
  }
 },
 "nbformat": 4,
 "nbformat_minor": 5
}
